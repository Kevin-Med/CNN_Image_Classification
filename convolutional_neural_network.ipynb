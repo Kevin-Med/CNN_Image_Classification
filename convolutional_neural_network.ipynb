{
 "cells": [
  {
   "cell_type": "markdown",
   "metadata": {},
   "source": [
    "Excercise from course: Machine Learning A-Z from Udemy\n",
    "\n",
    "by Kevin Meda"
   ]
  },
  {
   "cell_type": "markdown",
   "metadata": {
    "colab_type": "text",
    "id": "3DR-eO17geWu"
   },
   "source": [
    "# Convolutional Neural Network for Image Recognition"
   ]
  },
  {
   "cell_type": "markdown",
   "metadata": {},
   "source": [
    "## Classification of Cat and Dog Images"
   ]
  },
  {
   "cell_type": "markdown",
   "metadata": {
    "colab_type": "text",
    "id": "EMefrVPCg-60"
   },
   "source": [
    "### Import libraries"
   ]
  },
  {
   "cell_type": "code",
   "execution_count": 6,
   "metadata": {
    "colab": {},
    "colab_type": "code",
    "id": "sCV30xyVhFbE"
   },
   "outputs": [],
   "source": [
    "import tensorflow as tf\n",
    "from keras.preprocessing.image import ImageDataGenerator"
   ]
  },
  {
   "cell_type": "markdown",
   "metadata": {
    "colab_type": "text",
    "id": "oxQxCBWyoGPE"
   },
   "source": [
    "## Data Preprocessing"
   ]
  },
  {
   "cell_type": "markdown",
   "metadata": {
    "colab_type": "text",
    "id": "MvE-heJNo3GG"
   },
   "source": [
    "### Preprocessing the Training set"
   ]
  },
  {
   "cell_type": "code",
   "execution_count": 7,
   "metadata": {
    "colab": {},
    "colab_type": "code",
    "id": "0koUcJMJpEBD"
   },
   "outputs": [
    {
     "name": "stdout",
     "output_type": "stream",
     "text": [
      "Found 8000 images belonging to 2 classes.\n"
     ]
    }
   ],
   "source": [
    "train_datagen = ImageDataGenerator(rescale = 1./255,\n",
    "                                   shear_range = 0.2,\n",
    "                                   zoom_range = 0.2,\n",
    "                                   horizontal_flip = True)\n",
    "training_set = train_datagen.flow_from_directory('dataset/training_set',\n",
    "                                                 target_size = (64, 64),\n",
    "                                                 batch_size = 32,\n",
    "                                                 class_mode = 'binary')"
   ]
  },
  {
   "cell_type": "markdown",
   "metadata": {
    "colab_type": "text",
    "id": "mrCMmGw9pHys"
   },
   "source": [
    "### Preprocessing the Test set"
   ]
  },
  {
   "cell_type": "code",
   "execution_count": 8,
   "metadata": {
    "colab": {},
    "colab_type": "code",
    "id": "SH4WzfOhpKc3"
   },
   "outputs": [
    {
     "name": "stdout",
     "output_type": "stream",
     "text": [
      "Found 2000 images belonging to 2 classes.\n"
     ]
    }
   ],
   "source": [
    "test_datagen = ImageDataGenerator(rescale = 1./255)\n",
    "test_set = test_datagen.flow_from_directory('dataset/test_set',\n",
    "                                            target_size = (64, 64),\n",
    "                                            batch_size = 32,\n",
    "                                            class_mode = 'binary')"
   ]
  },
  {
   "cell_type": "markdown",
   "metadata": {
    "colab_type": "text",
    "id": "af8O4l90gk7B"
   },
   "source": [
    "## Building the CNN"
   ]
  },
  {
   "cell_type": "markdown",
   "metadata": {
    "colab_type": "text",
    "id": "ces1gXY2lmoX"
   },
   "source": [
    "### Initialze CNN"
   ]
  },
  {
   "cell_type": "code",
   "execution_count": 10,
   "metadata": {
    "colab": {},
    "colab_type": "code",
    "id": "SAUt4UMPlhLS"
   },
   "outputs": [],
   "source": [
    "cnn = tf.keras.models.Sequential()"
   ]
  },
  {
   "cell_type": "markdown",
   "metadata": {
    "colab_type": "text",
    "id": "u5YJj_XMl5LF"
   },
   "source": [
    "### Step 1 - Convolution"
   ]
  },
  {
   "cell_type": "code",
   "execution_count": 11,
   "metadata": {
    "colab": {},
    "colab_type": "code",
    "id": "XPzPrMckl-hV"
   },
   "outputs": [],
   "source": [
    "cnn.add(tf.keras.layers.Conv2D(filters=32, kernel_size=3, activation='relu', input_shape=[64, 64, 3]))"
   ]
  },
  {
   "cell_type": "markdown",
   "metadata": {
    "colab_type": "text",
    "id": "tf87FpvxmNOJ"
   },
   "source": [
    "### Step 2 - Pooling"
   ]
  },
  {
   "cell_type": "code",
   "execution_count": 12,
   "metadata": {
    "colab": {},
    "colab_type": "code",
    "id": "ncpqPl69mOac"
   },
   "outputs": [],
   "source": [
    "cnn.add(tf.keras.layers.MaxPool2D(pool_size=2, strides=2))"
   ]
  },
  {
   "cell_type": "markdown",
   "metadata": {
    "colab_type": "text",
    "id": "xaTOgD8rm4mU"
   },
   "source": [
    "### Adding a second convolutional layer"
   ]
  },
  {
   "cell_type": "code",
   "execution_count": 13,
   "metadata": {
    "colab": {},
    "colab_type": "code",
    "id": "i_-FZjn_m8gk"
   },
   "outputs": [],
   "source": [
    "cnn.add(tf.keras.layers.Conv2D(filters=32, kernel_size=3, activation='relu'))\n",
    "cnn.add(tf.keras.layers.MaxPool2D(pool_size=2, strides=2))"
   ]
  },
  {
   "cell_type": "markdown",
   "metadata": {
    "colab_type": "text",
    "id": "tmiEuvTunKfk"
   },
   "source": [
    "### Step 3 - Flattening"
   ]
  },
  {
   "cell_type": "code",
   "execution_count": 14,
   "metadata": {
    "colab": {},
    "colab_type": "code",
    "id": "6AZeOGCvnNZn"
   },
   "outputs": [],
   "source": [
    "cnn.add(tf.keras.layers.Flatten())"
   ]
  },
  {
   "cell_type": "markdown",
   "metadata": {
    "colab_type": "text",
    "id": "dAoSECOm203v"
   },
   "source": [
    "### Step 4 - Full Connection"
   ]
  },
  {
   "cell_type": "code",
   "execution_count": 15,
   "metadata": {
    "colab": {},
    "colab_type": "code",
    "id": "8GtmUlLd26Nq"
   },
   "outputs": [],
   "source": [
    "cnn.add(tf.keras.layers.Dense(units=128, activation='relu'))"
   ]
  },
  {
   "cell_type": "markdown",
   "metadata": {
    "colab_type": "text",
    "id": "yTldFvbX28Na"
   },
   "source": [
    "### Step 5 - Output Layer"
   ]
  },
  {
   "cell_type": "code",
   "execution_count": 16,
   "metadata": {
    "colab": {},
    "colab_type": "code",
    "id": "1p_Zj1Mc3Ko_"
   },
   "outputs": [],
   "source": [
    "cnn.add(tf.keras.layers.Dense(units=1, activation='sigmoid'))"
   ]
  },
  {
   "cell_type": "markdown",
   "metadata": {
    "colab_type": "text",
    "id": "D6XkI90snSDl"
   },
   "source": [
    "## Part 3 - Training CNN"
   ]
  },
  {
   "cell_type": "markdown",
   "metadata": {
    "colab_type": "text",
    "id": "vfrFQACEnc6i"
   },
   "source": [
    "### Compiling the CNN"
   ]
  },
  {
   "cell_type": "code",
   "execution_count": 17,
   "metadata": {
    "colab": {},
    "colab_type": "code",
    "id": "NALksrNQpUlJ"
   },
   "outputs": [],
   "source": [
    "cnn.compile(optimizer = 'adam', loss = 'binary_crossentropy', metrics = ['accuracy'])"
   ]
  },
  {
   "cell_type": "markdown",
   "metadata": {
    "colab_type": "text",
    "id": "ehS-v3MIpX2h"
   },
   "source": [
    "### Training the CNN on the Training set and evaluating it on the Test set for 25 epochs"
   ]
  },
  {
   "cell_type": "code",
   "execution_count": 18,
   "metadata": {
    "colab": {},
    "colab_type": "code",
    "id": "XUj1W4PJptta"
   },
   "outputs": [
    {
     "name": "stdout",
     "output_type": "stream",
     "text": [
      "Epoch 1/25\n",
      "250/250 [==============================] - 73s 290ms/step - loss: 0.6886 - accuracy: 0.5464 - val_loss: 0.6648 - val_accuracy: 0.6230\n",
      "Epoch 2/25\n",
      "250/250 [==============================] - 66s 262ms/step - loss: 0.6345 - accuracy: 0.6445 - val_loss: 0.6160 - val_accuracy: 0.6650\n",
      "Epoch 3/25\n",
      "250/250 [==============================] - 67s 269ms/step - loss: 0.5863 - accuracy: 0.6984 - val_loss: 0.5691 - val_accuracy: 0.7130\n",
      "Epoch 4/25\n",
      "250/250 [==============================] - 66s 265ms/step - loss: 0.5583 - accuracy: 0.7095 - val_loss: 0.5794 - val_accuracy: 0.6955\n",
      "Epoch 5/25\n",
      "250/250 [==============================] - 69s 274ms/step - loss: 0.5243 - accuracy: 0.7370 - val_loss: 0.5387 - val_accuracy: 0.7305\n",
      "Epoch 6/25\n",
      "250/250 [==============================] - 68s 272ms/step - loss: 0.4975 - accuracy: 0.7569 - val_loss: 0.5254 - val_accuracy: 0.7465\n",
      "Epoch 7/25\n",
      "250/250 [==============================] - 69s 275ms/step - loss: 0.4830 - accuracy: 0.7706 - val_loss: 0.5502 - val_accuracy: 0.7460\n",
      "Epoch 8/25\n",
      "250/250 [==============================] - 68s 272ms/step - loss: 0.4604 - accuracy: 0.7805 - val_loss: 0.4789 - val_accuracy: 0.7700\n",
      "Epoch 9/25\n",
      "250/250 [==============================] - 69s 277ms/step - loss: 0.4469 - accuracy: 0.7850 - val_loss: 0.4749 - val_accuracy: 0.7705\n",
      "Epoch 10/25\n",
      "250/250 [==============================] - 68s 274ms/step - loss: 0.4281 - accuracy: 0.8015 - val_loss: 0.5485 - val_accuracy: 0.7565\n",
      "Epoch 11/25\n",
      "250/250 [==============================] - 65s 261ms/step - loss: 0.4136 - accuracy: 0.8094 - val_loss: 0.4685 - val_accuracy: 0.7865\n",
      "Epoch 12/25\n",
      "250/250 [==============================] - 63s 251ms/step - loss: 0.3981 - accuracy: 0.8189 - val_loss: 0.4662 - val_accuracy: 0.7930\n",
      "Epoch 13/25\n",
      "250/250 [==============================] - 63s 251ms/step - loss: 0.3882 - accuracy: 0.8269 - val_loss: 0.4929 - val_accuracy: 0.7785\n",
      "Epoch 14/25\n",
      "250/250 [==============================] - 63s 252ms/step - loss: 0.3708 - accuracy: 0.8341 - val_loss: 0.4991 - val_accuracy: 0.7800\n",
      "Epoch 15/25\n",
      "250/250 [==============================] - 62s 250ms/step - loss: 0.3532 - accuracy: 0.8394 - val_loss: 0.5568 - val_accuracy: 0.7765\n",
      "Epoch 16/25\n",
      "250/250 [==============================] - 63s 251ms/step - loss: 0.3359 - accuracy: 0.8505 - val_loss: 0.4856 - val_accuracy: 0.7915\n",
      "Epoch 17/25\n",
      "250/250 [==============================] - 63s 251ms/step - loss: 0.3203 - accuracy: 0.8620 - val_loss: 0.4873 - val_accuracy: 0.7885\n",
      "Epoch 18/25\n",
      "250/250 [==============================] - 69s 276ms/step - loss: 0.3050 - accuracy: 0.8664 - val_loss: 0.5008 - val_accuracy: 0.7865\n",
      "Epoch 19/25\n",
      "250/250 [==============================] - 68s 270ms/step - loss: 0.2944 - accuracy: 0.8739 - val_loss: 0.4969 - val_accuracy: 0.7900\n",
      "Epoch 20/25\n",
      "250/250 [==============================] - 67s 269ms/step - loss: 0.2787 - accuracy: 0.8819 - val_loss: 0.5143 - val_accuracy: 0.7850\n",
      "Epoch 21/25\n",
      "250/250 [==============================] - 68s 271ms/step - loss: 0.2676 - accuracy: 0.8906 - val_loss: 0.5324 - val_accuracy: 0.7945\n",
      "Epoch 22/25\n",
      "250/250 [==============================] - 69s 274ms/step - loss: 0.2501 - accuracy: 0.8947 - val_loss: 0.5292 - val_accuracy: 0.7905\n",
      "Epoch 23/25\n",
      "250/250 [==============================] - 67s 269ms/step - loss: 0.2443 - accuracy: 0.8984 - val_loss: 0.5358 - val_accuracy: 0.7930\n",
      "Epoch 24/25\n",
      "250/250 [==============================] - 65s 258ms/step - loss: 0.2289 - accuracy: 0.9071 - val_loss: 0.5728 - val_accuracy: 0.7890\n",
      "Epoch 25/25\n",
      "250/250 [==============================] - 70s 278ms/step - loss: 0.2004 - accuracy: 0.9166 - val_loss: 0.6263 - val_accuracy: 0.7945\n"
     ]
    },
    {
     "data": {
      "text/plain": [
       "<keras.callbacks.History at 0x2b436b94880>"
      ]
     },
     "execution_count": 18,
     "metadata": {},
     "output_type": "execute_result"
    }
   ],
   "source": [
    "cnn.fit(x = training_set, validation_data = test_set, epochs = 25)"
   ]
  },
  {
   "cell_type": "markdown",
   "metadata": {
    "colab_type": "text",
    "id": "U3PZasO0006Z"
   },
   "source": [
    "## Predict from one image"
   ]
  },
  {
   "cell_type": "code",
   "execution_count": 23,
   "metadata": {
    "colab": {},
    "colab_type": "code",
    "id": "gsSiWEJY1BPB"
   },
   "outputs": [],
   "source": [
    "import numpy as np\n",
    "from keras.preprocessing import image\n",
    "test_image = image.load_img('dataset/test_set/cats/cat.4002.jpg', target_size = (64, 64))\n",
    "test_image = image.img_to_array(test_image)\n",
    "test_image = np.expand_dims(test_image, axis = 0)\n",
    "result = cnn.predict(test_image)\n",
    "training_set.class_indices\n",
    "if result[0][0] == 1:\n",
    "  prediction = 'dog'\n",
    "else:\n",
    "  prediction = 'cat'"
   ]
  },
  {
   "cell_type": "code",
   "execution_count": 24,
   "metadata": {
    "colab": {},
    "colab_type": "code",
    "id": "ED9KB3I54c1i"
   },
   "outputs": [
    {
     "name": "stdout",
     "output_type": "stream",
     "text": [
      "cat\n"
     ]
    }
   ],
   "source": [
    "print(prediction)"
   ]
  },
  {
   "cell_type": "code",
   "execution_count": null,
   "metadata": {},
   "outputs": [],
   "source": []
  }
 ],
 "metadata": {
  "colab": {
   "collapsed_sections": [],
   "name": "convolutional_neural_network.ipynb",
   "provenance": [],
   "toc_visible": true
  },
  "kernelspec": {
   "display_name": "Python 3",
   "language": "python",
   "name": "python3"
  },
  "language_info": {
   "codemirror_mode": {
    "name": "ipython",
    "version": 3
   },
   "file_extension": ".py",
   "mimetype": "text/x-python",
   "name": "python",
   "nbconvert_exporter": "python",
   "pygments_lexer": "ipython3",
   "version": "3.8.8"
  }
 },
 "nbformat": 4,
 "nbformat_minor": 4
}
